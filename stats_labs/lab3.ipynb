{
 "cells": [
  {
   "cell_type": "code",
   "execution_count": 1,
   "metadata": {},
   "outputs": [
    {
     "name": "stderr",
     "output_type": "stream",
     "text": [
      "/home/paul/anaconda3/lib/python3.6/site-packages/statsmodels/compat/pandas.py:56: FutureWarning: The pandas.core.datetools module is deprecated and will be removed in a future version. Please use the pandas.tseries module instead.\n",
      "  from pandas.core import datetools\n"
     ]
    }
   ],
   "source": [
    "import matplotlib.pyplot as plt\n",
    "%matplotlib inline\n",
    "\n",
    "import numpy as np\n",
    "import pandas as pd\n",
    "\n",
    "import statsmodels.api as sm"
   ]
  },
  {
   "cell_type": "markdown",
   "metadata": {},
   "source": [
    "### Exercise 1\n",
    "\n",
    "In this exercise you address the regression problem described [here](https://archive.ics.uci.edu/ml/datasets/Airfoil+Self-Noise) with linear regression.\n",
    "\n",
    "- Download the dataset and load it in Python (use `loadtxt` from NumPy).\n",
    "- Fit a linear regression model to the data (don't forget to add a constant input variable) (use StatsModels).\n",
    "- Print a summary of the fitted model. How much is $R^2$? Which coefficients are not significant according to the t-test p-values?\n",
    "- Replace the output variable by its logarithm. How much is $R^2$?"
   ]
  },
  {
   "cell_type": "markdown",
   "metadata": {},
   "source": [
    "### Exercise 2\n",
    "\n",
    "In this exercise you address the classification problem described [here](http://scikit-learn.org/stable/modules/generated/sklearn.datasets.load_breast_cancer.html) with logistic regression.\n",
    "\n",
    "- Find the best logistic regression model (including constant) among all possible models with exactly 3 inputs (use StatsModels). The best model is the model that yields the highest log-likelihood.\n",
    "- What are the name of the features selected in the best model?"
   ]
  }
 ],
 "metadata": {
  "kernelspec": {
   "display_name": "Python 3",
   "language": "python",
   "name": "python3"
  },
  "language_info": {
   "codemirror_mode": {
    "name": "ipython",
    "version": 3
   },
   "file_extension": ".py",
   "mimetype": "text/x-python",
   "name": "python",
   "nbconvert_exporter": "python",
   "pygments_lexer": "ipython3",
   "version": "3.6.2"
  }
 },
 "nbformat": 4,
 "nbformat_minor": 2
}
