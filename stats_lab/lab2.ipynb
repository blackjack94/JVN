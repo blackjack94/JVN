{
 "cells": [
  {
   "cell_type": "markdown",
   "metadata": {},
   "source": [
    "### Exercise 1\n",
    "\n",
    "Let $X_1,\\dots,X_n$ be an i.i.d. sample from $\\mathcal N(0.1,\\sigma^2)$.\n",
    "\n",
    "Consider testing $H_0: \\mathbb E[X_1]=0$, with t-test.\n",
    "\n",
    "- Let $n = 30,31,\\dots,300$ and $\\sigma=0.4$. Plot the p-value of the t-test vs. $n$.\n",
    "- Let $n = 30$ and $\\sigma = 0.01,0.02,\\dots,1$. Plot the p-value of the t-test vs. $\\sigma$.\n",
    "- Add labels to the plot axis.\n",
    "- What do you observe?"
   ]
  },
  {
   "cell_type": "markdown",
   "metadata": {},
   "source": [
    "### Exercise 2\n",
    "\n",
    "Let $X_1,\\dots,X_n$ be an i.i.d. sample from $\\mathcal B(1,0.5)$ (Bernoulli distribution).\n",
    "\n",
    "For all $i \\in \\{1,\\dots,n\\}$, let $Y_i \\sim \\mathcal N(-1,1)$ if $X_i=0$ and $Y_i \\sim \\mathcal N(1,1)$ if $X_i=1$.\n",
    "\n",
    "For all $i \\in \\{1,\\dots,n\\}$, let $Z_i=0$ if $Y_i<0$ and $Z_i=1$ if $Y_i\\geq0$.\n",
    "\n",
    "Consider testing $H_0$: $X_1$ and $Z_1$ are independent, with the $\\chi^2$ test of independence.\n",
    "\n",
    "Let $n = 3,6,\\dots,60$. \n",
    "\n",
    "- Plot the p-value of the $\\chi^2$ test vs. $n$.\n",
    "- Plot the $\\chi^2$ test statistic vs. $n$.\n",
    "- Add labels to the plot axis.\n",
    "- What do you observe?"
   ]
  },
  {
   "cell_type": "markdown",
   "metadata": {},
   "source": [
    "### Exercise 3\n",
    "\n",
    "Let $X_{11},\\dots,X_{n1}$ be an i.i.d. sample from $\\mathcal N(5,2)$.\n",
    "\n",
    "Let $X_{12},\\dots,X_{n2}$ be an i.i.d. sample from $\\mathcal U([0,10])$.\n",
    "\n",
    "Let $\\varepsilon_1,\\dots,\\varepsilon_n$ be an i.i.d. sample from $\\mathcal N(0,1)$.\n",
    "\n",
    "For all $i \\in \\{1,\\dots,n\\}$, let $Y_i = a + b X_{i1} + c X_{i2} + \\varepsilon_i$ where $a=2$, $b=3$, $c=1$.\n",
    "\n",
    "Suppose that we observe $Y_1,\\dots,Y_n$ and $(X_{11},X_{12}),\\dots,(X_{n1},X_{n2})$ and that we do not know the true value of $a$, $b$ and $c$.\n",
    "\n",
    "**In this exercise the use of native functions from NumPy or SciPy for least squares estimation is not allowed. You must use matrix calculus only.**\n",
    "\n",
    "- Let $n=200$. Generate these data samples.\n",
    "- Estimate the regression coefficients by least squares estimation."
   ]
  },
  {
   "cell_type": "markdown",
   "metadata": {},
   "source": [
    "### Exercise 4\n",
    "\n",
    "Consider the same linear regression model as in Exercise 3.\n",
    "\n",
    "- Let $n = 3,4,\\dots,300$. Plot the values of the estimated coefficients vs. $n$.\n",
    "- Add labels to the plot axis.\n",
    "- What do you observe?"
   ]
  }
 ],
 "metadata": {
  "kernelspec": {
   "display_name": "Python 3",
   "language": "python",
   "name": "python3"
  },
  "language_info": {
   "codemirror_mode": {
    "name": "ipython",
    "version": 3
   },
   "file_extension": ".py",
   "mimetype": "text/x-python",
   "name": "python",
   "nbconvert_exporter": "python",
   "pygments_lexer": "ipython3",
   "version": "3.6.1"
  }
 },
 "nbformat": 4,
 "nbformat_minor": 2
}
