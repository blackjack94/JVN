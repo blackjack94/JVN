{
 "cells": [
  {
   "cell_type": "markdown",
   "metadata": {},
   "source": [
    "### Exercise 1\n",
    "\n",
    "- Generate a Gaussian data sample of size $n=300$ with mean 2 and variance 2.\n",
    "- Plot the histogram of the data.\n",
    "- Compute the sample mean and variance.\n",
    "- Let $n$ vary from 5 to 500 (keep the same mean and variance values). Plot the sample mean and variance vs. $n$."
   ]
  },
  {
   "cell_type": "markdown",
   "metadata": {},
   "source": [
    "## Exercise 2\n",
    "\n",
    "- Generate $N=10000$ data samples of $n=100$ data points from the distribution $\\mathcal U([0,1])$ (uniform).\n",
    "\n",
    "The mean and variance of $\\mathcal U([0,1])$ are respectively $\\mu = 1/2$ and $\\sigma = 1/12$.\n",
    "\n",
    "- Let $\\bar X^j$ be the sample mean of the $j$th data sample ($j \\in \\{1,\\dots,N\\}$) and $Z_j = \\frac{\\bar X^j - \\mu}{\\sigma / \\sqrt n}$. Plot the histogram of the sample $\\{\\bar X^1, \\dots, \\bar X^N\\}$."
   ]
  },
  {
   "cell_type": "markdown",
   "metadata": {},
   "source": [
    "### Exercise 3\n",
    "\n",
    "- Generate a Gaussian data sample of size 100 with mean $\\begin{pmatrix} 2 \\\\ 1 \\end{pmatrix}$ and variance $\\begin{pmatrix} 2 & 1 \\\\ 1 & 2 \\end{pmatrix}$.\n",
    "- Generate a Gaussian data sample of size 100 with mean $\\begin{pmatrix} -2 \\\\ 1 \\end{pmatrix}$ and variance $\\begin{pmatrix} 2 & -1 \\\\ -1 & 2 \\end{pmatrix}$.\n",
    "- Plot these two data samples on the same plot with different colors."
   ]
  },
  {
   "cell_type": "markdown",
   "metadata": {
    "collapsed": true
   },
   "source": [
    "### Exercise 4\n",
    "\n",
    "- Generate a Poisson data sample of size $n=300$ with parameter 3.\n",
    "- Plot the histogram of the data."
   ]
  },
  {
   "cell_type": "markdown",
   "metadata": {},
   "source": [
    "### Exercise 5\n",
    "\n",
    "- Generate a data sample $\\mathbf X$ of size $n=100$ from the distribution $\\mathcal U([-5,5])$.\n",
    "- Generate a data sample $\\mathbf e$ of size $n$ from the distribution $\\mathcal N(0,9)$.\n",
    "- Compute the vector $\\mathbf Y = -1 + 2 \\mathbf X + \\mathbf e$.\n",
    "- Plot $\\mathbf Y$ vs. $\\mathbf X$.\n",
    "- Add the line of equation $y = -1 + 2x$ to the plot."
   ]
  },
  {
   "cell_type": "markdown",
   "metadata": {},
   "source": [
    "### Exercise 6\n",
    "\n",
    "In this exercise, only the function $\\verb|numpy.random.normal|$ is allowed for random variable generation.\n",
    "\n",
    "Let $X \\sim \\mathcal N(0,1)$ and $Y_1, \\dots, Y_n$ be an i.i.d. sample from $\\mathcal N(0,1)$.\n",
    "\n",
    "Then $\\sum_{i=1}^n Y_i^2 \\sim \\chi^2_n$ and $\\frac{X}{\\sqrt{\\sum_{i=1}^n Y_i^2}} \\sim t_n$.\n",
    "\n",
    "- Simulate a data sample of size 500 from the t-distribution with 3 degrees of freedom.\n",
    "- Plot the histogram of the data."
   ]
  }
 ],
 "metadata": {
  "kernelspec": {
   "display_name": "Python 3",
   "language": "python",
   "name": "python3"
  },
  "language_info": {
   "codemirror_mode": {
    "name": "ipython",
    "version": 3
   },
   "file_extension": ".py",
   "mimetype": "text/x-python",
   "name": "python",
   "nbconvert_exporter": "python",
   "pygments_lexer": "ipython3",
   "version": "3.6.1"
  }
 },
 "nbformat": 4,
 "nbformat_minor": 2
}
