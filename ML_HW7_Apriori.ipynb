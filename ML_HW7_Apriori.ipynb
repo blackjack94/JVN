{
 "cells": [
  {
   "cell_type": "code",
   "execution_count": 1,
   "metadata": {},
   "outputs": [],
   "source": [
    "T = [ ['coffee', 'bread', 'butter'], \n",
    "      ['milk', 'beer', 'bread', 'butter'], \n",
    "      ['coffee', 'bread', 'butter'],\n",
    "      ['milk', 'coffee', 'bread', 'butter'], \n",
    "      ['beer', 'butter'],\n",
    "      ['butter'],\n",
    "      ['beans', 'coffee'],\n",
    "      ['rice', 'beans'] ]"
   ]
  },
  {
   "cell_type": "code",
   "execution_count": 2,
   "metadata": {},
   "outputs": [
    {
     "name": "stdout",
     "output_type": "stream",
     "text": [
      "['beans', 'beer', 'bread', 'butter', 'coffee', 'milk', 'rice']\n"
     ]
    }
   ],
   "source": [
    "I = set()\n",
    "\n",
    "for t in T:\n",
    "    for item in t:\n",
    "        I.add(item)\n",
    "\n",
    "I = sorted(I)\n",
    "print(I)"
   ]
  },
  {
   "cell_type": "code",
   "execution_count": 3,
   "metadata": {},
   "outputs": [
    {
     "name": "stdout",
     "output_type": "stream",
     "text": [
      "[[3, 4, 5], [2, 3, 4, 6], [3, 4, 5], [3, 4, 5, 6], [2, 4], [4], [1, 5], [1, 7]]\n"
     ]
    }
   ],
   "source": [
    "new_T = [sorted([(I.index(item) + 1) for item in t]) for t in T]\n",
    "print(new_T)"
   ]
  }
 ],
 "metadata": {
  "kernelspec": {
   "display_name": "Python 3",
   "language": "python",
   "name": "python3"
  },
  "language_info": {
   "codemirror_mode": {
    "name": "ipython",
    "version": 3
   },
   "file_extension": ".py",
   "mimetype": "text/x-python",
   "name": "python",
   "nbconvert_exporter": "python",
   "pygments_lexer": "ipython3",
   "version": "3.6.2"
  }
 },
 "nbformat": 4,
 "nbformat_minor": 2
}
